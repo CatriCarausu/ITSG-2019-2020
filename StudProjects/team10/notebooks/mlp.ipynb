{
 "cells": [
  {
   "cell_type": "code",
   "execution_count": 1,
   "metadata": {
    "scrolled": true
   },
   "outputs": [],
   "source": [
    "# Load required libraries\n",
    "import numpy as np # linear algebra\n",
    "import pandas as pd # data processing, CSV file I/O (e.g. pd.read_csv)\n",
    "import json\n",
    "import seaborn as sns\n",
    "import matplotlib.pyplot as plt\n",
    "from sklearn import datasets\n",
    "from sklearn.preprocessing import StandardScaler\n",
    "from sklearn.neural_network import MLPClassifier\n",
    "from sklearn.model_selection import train_test_split\n",
    "from sklearn.metrics import accuracy_score, recall_score, f1_score, precision_score\n",
    "from sklearn.metrics import confusion_matrix"
   ]
  },
  {
   "cell_type": "code",
   "execution_count": 2,
   "metadata": {},
   "outputs": [],
   "source": [
    "# READ DATA\n",
    "df_train = pd.read_csv('./petfinder-adoption-prediction/final_train.csv')"
   ]
  },
  {
   "cell_type": "code",
   "execution_count": 3,
   "metadata": {},
   "outputs": [],
   "source": [
    "############################################################################################\n",
    "################################### DATA PREPARATION #######################################\n",
    "############################################################################################\n",
    "\n",
    "# Remove object data types from the data\n",
    "\n",
    "df_train.drop(df_train.select_dtypes(['object']), axis=1, inplace=True)\n",
    "#df_train.info()\n",
    "#df_train.describe()\n",
    "\n",
    "# Extract adoptionSpeed in a separate variable, remove it from the data set for model training/evaluation\n",
    "df_train = df_train.dropna()\n",
    "adoptionSpeed=df_train['AdoptionSpeed']\n",
    "del df_train[\"AdoptionSpeed\"]\n",
    "\n",
    "#df_train.info()"
   ]
  },
  {
   "cell_type": "code",
   "execution_count": 4,
   "metadata": {},
   "outputs": [],
   "source": [
    "# Separate the training data set into train dataset (80% train) and test dataset (20% test)\n",
    "df_train, df_test, adoptionSpeed_train, adoptionSpeed_test = train_test_split(df_train, adoptionSpeed, test_size=0.2)"
   ]
  },
  {
   "cell_type": "code",
   "execution_count": 5,
   "metadata": {},
   "outputs": [
    {
     "data": {
      "text/plain": [
       "StandardScaler(copy=True, with_mean=True, with_std=True)"
      ]
     },
     "execution_count": 5,
     "metadata": {},
     "output_type": "execute_result"
    }
   ],
   "source": [
    "############################################################################################\n",
    "################################## DATA NORMALIZATION ######################################\n",
    "############################################################################################\n",
    "\n",
    "# Normalize the data\n",
    "# Train the scaler, which standarizes all the features by removing the mean and scaling to unit variance\n",
    "sc = StandardScaler()\n",
    "# Apply the scaler to the feature training data\n",
    "sc.fit(df_train)\n",
    "\n",
    "# Apply the SAME scaler to the feature test data\n",
    "sc.fit(df_test)"
   ]
  },
  {
   "cell_type": "code",
   "execution_count": 6,
   "metadata": {},
   "outputs": [],
   "source": [
    "# Apply the scaler to the feature training data\n",
    "features_train_std = sc.transform(df_train)\n",
    "\n",
    "# Apply the SAME scaler to the feature test data\n",
    "features_test_std = sc.transform(df_test)"
   ]
  },
  {
   "cell_type": "code",
   "execution_count": 7,
   "metadata": {
    "scrolled": false
   },
   "outputs": [
    {
     "data": {
      "text/plain": [
       "MLPClassifier(activation='relu', alpha=1e-05, batch_size='auto', beta_1=0.9,\n",
       "              beta_2=0.999, early_stopping=False, epsilon=1e-08,\n",
       "              hidden_layer_sizes=(15,), learning_rate='constant',\n",
       "              learning_rate_init=0.001, max_iter=200, momentum=0.9,\n",
       "              n_iter_no_change=10, nesterovs_momentum=True, power_t=0.5,\n",
       "              random_state=1, shuffle=True, solver='lbfgs', tol=0.0001,\n",
       "              validation_fraction=0.1, verbose=False, warm_start=False)"
      ]
     },
     "execution_count": 7,
     "metadata": {},
     "output_type": "execute_result"
    }
   ],
   "source": [
    "############################################################################################\n",
    "######################################## TRAIN #############################################\n",
    "############################################################################################\n",
    "\n",
    "# Create a multilayer perceptron object with the parameters: max 500 iterations (epochs) over the data ...\n",
    "clf = MLPClassifier(solver='lbfgs', alpha=1e-5, hidden_layer_sizes=(15,), random_state=1)\n",
    "clf.fit(features_train_std, adoptionSpeed_train) "
   ]
  },
  {
   "cell_type": "code",
   "execution_count": 8,
   "metadata": {},
   "outputs": [
    {
     "name": "stdout",
     "output_type": "stream",
     "text": [
      "0.4\n",
      "0.3169856812352975\n",
      "0.31284755837367484\n",
      "0.3061281461819574\n"
     ]
    }
   ],
   "source": [
    "############################################################################################\n",
    "######################################### TEST #############################################\n",
    "############################################################################################\n",
    "\n",
    "# Apply the trained perceptron on the features data to make predicts for the target test data\n",
    "clf_predicted = clf.predict(features_test_std)\n",
    "print(accuracy_score(adoptionSpeed_test, clf_predicted))\n",
    "print(recall_score(adoptionSpeed_test, clf_predicted, average='macro'))\n",
    "print(precision_score(adoptionSpeed_test, clf_predicted, average='macro'))\n",
    "print(f1_score(adoptionSpeed_test, clf_predicted, average='macro'))"
   ]
  },
  {
   "cell_type": "code",
   "execution_count": 9,
   "metadata": {},
   "outputs": [],
   "source": [
    "# https://www.dataschool.io/simple-guide-to-confusion-matrix-terminology/\n",
    "\n",
    "cm = confusion_matrix(adoptionSpeed_test, clf_predicted)"
   ]
  },
  {
   "cell_type": "code",
   "execution_count": 10,
   "metadata": {},
   "outputs": [
    {
     "data": {
      "image/png": "[encoded data removed]",
      "text/plain": [
       "<Figure size 432x288 with 2 Axes>"
      ]
     },
     "metadata": {
      "needs_background": "light"
     },
     "output_type": "display_data"
    }
   ],
   "source": [
    "sns.heatmap(cm, center=True)\n",
    "plt.show()"
   ]
  },
  {
   "cell_type": "code",
   "execution_count": null,
   "metadata": {},
   "outputs": [],
   "source": [
    "# serialize model\n",
    "from sklearn.externals import joblib\n",
    "model_columns = list(features_train_std.columns)\n",
    "joblib.dumps(model_columns, 'model_columns.pkl')\n",
    "\n",
    "joblib.dump(clf, 'model.pkl')"
   ]
  }
 ],
 "metadata": {
  "kernelspec": {
   "display_name": "Python 3",
   "language": "python",
   "name": "python3"
  },
  "language_info": {
   "codemirror_mode": {
    "name": "ipython",
    "version": 3
   },
   "file_extension": ".py",
   "mimetype": "text/x-python",
   "name": "python",
   "nbconvert_exporter": "python",
   "pygments_lexer": "ipython3",
   "version": "3.6.8rc1"
  }
 },
 "nbformat": 4,
 "nbformat_minor": 2
}
