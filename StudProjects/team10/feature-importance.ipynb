{
 "cells": [
  {
   "cell_type": "code",
   "execution_count": 1,
   "metadata": {},
   "outputs": [],
   "source": [
    "# Feature importance extraction based on a random forest\n",
    "# adoptionSpeed - holds adoption speed values from df_train\n",
    "# train - training data set for model evaluation (80% of df_train)\n",
    "# test - testing data set for model evaluation (20% of df_train)\n",
    "# adoptionSpeed_train, adoptionSpeed_test - corresponding values of the adooption speed, used for model evaluation\n",
    "# feature_train - only n most important features (columns) from train \n",
    "# feature_test - only n most important features (columns) from test\n",
    "# max_features - set how many features to use to create feature_train and feature_test\n",
    "\n",
    "import numpy as np # linear algebra\n",
    "import pandas as pd # data processing, CSV file I/O (e.g. pd.read_csv)\n",
    "import json\n",
    "import matplotlib.pyplot as plt\n",
    "\n",
    "from sklearn.ensemble import AdaBoostClassifier\n",
    "from sklearn.metrics import accuracy_score\n",
    "from sklearn.metrics import mean_squared_error\n",
    "from sklearn.model_selection import train_test_split, GridSearchCV\n",
    "from sklearn.linear_model import Perceptron\n",
    "from sklearn.neural_network import MLPClassifier\n",
    "from sklearn import preprocessing\n",
    "from sklearn import datasets, linear_model, tree\n",
    "from sklearn.metrics import mean_squared_error, r2_score,roc_auc_score, roc_curve\n",
    "from sklearn.feature_extraction.text import TfidfVectorizer\n",
    "from sklearn.decomposition import SparsePCA, TruncatedSVD, LatentDirichletAllocation, NMF\n",
    "# Import models\n",
    "from sklearn.ensemble import RandomForestClassifier\n",
    "from sklearn.ensemble import RandomForestRegressor"
   ]
  },
  {
   "cell_type": "code",
   "execution_count": 2,
   "metadata": {},
   "outputs": [],
   "source": [
    "# READ DATA\n",
    "df_train = pd.read_csv('./petfinder-adoption-prediction/final_train.csv')"
   ]
  },
  {
   "cell_type": "code",
   "execution_count": 3,
   "metadata": {},
   "outputs": [],
   "source": [
    "# Remove object data types from the data\n",
    "\n",
    "df_train.drop(df_train.select_dtypes(['object']), axis=1, inplace=True)\n",
    "#df_train.info()\n",
    "#df_train.describe()\n",
    "\n",
    "# Extract adoptionSpeed in a separate variable, remove it from the data set for model training/evaluation\n",
    "df_train = df_train.dropna()\n",
    "adoptionSpeed=df_train['AdoptionSpeed']\n",
    "del df_train[\"AdoptionSpeed\"]\n",
    "#df_train.info()"
   ]
  },
  {
   "cell_type": "code",
   "execution_count": 4,
   "metadata": {},
   "outputs": [],
   "source": [
    "# Normalize the data\n",
    "# Bring all your values onto one scale to eliminate sparsity by:\n",
    "# Dividing by the standard deviation and substracting the mean for each data point\n",
    "columns = df_train.columns\n",
    "df_train = pd.DataFrame(preprocessing.scale(df_train))\n",
    "df_train.columns = columns\n",
    "# df_train.describe()"
   ]
  },
  {
   "cell_type": "code",
   "execution_count": 4,
   "metadata": {},
   "outputs": [
    {
     "ename": "NameError",
     "evalue": "name 'RandomForestClassifier' is not defined",
     "output_type": "error",
     "traceback": [
      "\u001b[1;31m---------------------------------------------------------------------------\u001b[0m",
      "\u001b[1;31mNameError\u001b[0m                                 Traceback (most recent call last)",
      "\u001b[1;32m<ipython-input-4-6f0751b3a435>\u001b[0m in \u001b[0;36m<module>\u001b[1;34m\u001b[0m\n\u001b[0;32m      6\u001b[0m \u001b[0mtrain\u001b[0m\u001b[1;33m,\u001b[0m \u001b[0mtest\u001b[0m\u001b[1;33m,\u001b[0m \u001b[0madoptionSpeed_train\u001b[0m\u001b[1;33m,\u001b[0m \u001b[0madoptionSpeed_test\u001b[0m \u001b[1;33m=\u001b[0m \u001b[0mtrain_test_split\u001b[0m\u001b[1;33m(\u001b[0m\u001b[0mdf_train\u001b[0m\u001b[1;33m,\u001b[0m \u001b[0madoptionSpeed\u001b[0m\u001b[1;33m,\u001b[0m \u001b[0mtest_size\u001b[0m\u001b[1;33m=\u001b[0m\u001b[1;36m0.2\u001b[0m\u001b[1;33m)\u001b[0m\u001b[1;33m\u001b[0m\u001b[1;33m\u001b[0m\u001b[0m\n\u001b[0;32m      7\u001b[0m \u001b[1;33m\u001b[0m\u001b[0m\n\u001b[1;32m----> 8\u001b[1;33m \u001b[0mmodel\u001b[0m \u001b[1;33m=\u001b[0m \u001b[0mRandomForestClassifier\u001b[0m\u001b[1;33m(\u001b[0m\u001b[0mn_estimators\u001b[0m\u001b[1;33m=\u001b[0m\u001b[1;36m500\u001b[0m\u001b[1;33m,\u001b[0m \u001b[0mcriterion\u001b[0m\u001b[1;33m=\u001b[0m\u001b[1;34m'entropy'\u001b[0m\u001b[1;33m)\u001b[0m \u001b[1;31m# n_estimators number of decision trees\u001b[0m\u001b[1;33m\u001b[0m\u001b[1;33m\u001b[0m\u001b[0m\n\u001b[0m\u001b[0;32m      9\u001b[0m \u001b[1;33m\u001b[0m\u001b[0m\n\u001b[0;32m     10\u001b[0m \u001b[1;31m# Train a random forest classifier for feature importance for all pets\u001b[0m\u001b[1;33m\u001b[0m\u001b[1;33m\u001b[0m\u001b[1;33m\u001b[0m\u001b[0m\n",
      "\u001b[1;31mNameError\u001b[0m: name 'RandomForestClassifier' is not defined"
     ]
    }
   ],
   "source": [
    "############################################################################################\n",
    "############################ Feature Importance ###########################################\n",
    "############################################################################################\n",
    "\n",
    "# Separate the training data set into train (80% df_train) and test (20% df_train)\n",
    "train, test, adoptionSpeed_train, adoptionSpeed_test = train_test_split(df_train, adoptionSpeed, test_size=0.2)\n",
    "\n",
    "model = RandomForestClassifier(n_estimators=500, criterion='entropy') # n_estimators number of decision trees\n",
    "\n",
    "# Train a random forest classifier for feature importance for all pets\n",
    "model.fit(train, adoptionSpeed_train)\n",
    "\n",
    "# Return the feature importances (the higher, the more important the feature)\n",
    "importances = model.feature_importances_\n",
    "std = np.std([t.feature_importances_ for t in model.estimators_],\n",
    "             axis=0)\n",
    "index = np.argsort(importances)[::-1]"
   ]
  },
  {
   "cell_type": "code",
   "execution_count": 6,
   "metadata": {},
   "outputs": [
    {
     "name": "stdout",
     "output_type": "stream",
     "text": [
      "Feature ranking:\n",
      "1. RescuerID_COUNT\n",
      "2. file_top_score_Mean\n",
      "3. Age\n",
      "4. file_color_score_Mean\n",
      "5. file_color_pixelfrac_Mean\n",
      "6. file_top_score_Sum\n",
      "7. file_color_pixelfrac_Sum\n",
      "8. domcol_r_Mean\n",
      "9. img_bound_polygon_y_Mean\n",
      "10. domcol_b_Mean\n",
      "11. file_color_score_Sum\n",
      "12. domcol_g_Mean\n",
      "13. domcol_b_Sum\n",
      "14. domcol_r_Sum\n",
      "15. sum_mag_Mean\n",
      "16. sum_score_Mean\n",
      "17. doc_mag_corr_Mean\n",
      "18. domcol_g_Sum\n",
      "19. sum_mag_corr_Mean\n",
      "20. img_bound_polygon_x_Mean\n",
      "21. Breed1\n",
      "22. img_bound_polygon_x_Sum\n",
      "23. img_bound_polygon_y_Sum\n",
      "24. sent_count_Mean\n",
      "25. sen1_score_Mean\n",
      "26. sen1_magnitude_Mean\n",
      "27. doc_score_Mean\n",
      "28. Color2\n",
      "29. Color1\n",
      "30. Sterilized\n",
      "31. State\n",
      "32. Breed2\n",
      "33. Gender\n",
      "34. FurLength\n",
      "35. img_imp_fract_Sum\n",
      "36. file_crop_importance_Sum\n",
      "37. Vaccinated\n",
      "38. Quantity\n",
      "39. Dewormed\n",
      "40. MaturitySize\n",
      "41. Color3\n",
      "42. img_confidence_Sum\n",
      "43. file_crop_conf_Sum\n",
      "44. Fee\n",
      "45. pic_no\n",
      "46. PhotoAmt\n",
      "47. Type\n",
      "48. file_crop_importance_Mean\n",
      "49. img_imp_fract_Mean\n",
      "50. img_confidence_Mean\n",
      "51. file_crop_conf_Mean\n",
      "52. VideoAmt\n",
      "53. Health\n",
      "54. PureBreed\n",
      "55. has_eng_description_Mean\n"
     ]
    }
   ],
   "source": [
    "# Print the feature ranking\n",
    "print(\"Feature ranking:\")\n",
    "\n",
    "for f in range(train.shape[1]):\n",
    "    # print(\"%d. feature %d (%f)\" % (f + 1, index[f], importances[index[f]]))\n",
    "    print(\"%d. %s\" % (f+1, train.columns.values[index[f]]))\n",
    "    \n",
    "labels = list(train.columns.values)\n",
    "ordered_labels = [labels[i] for i in index]"
   ]
  },
  {
   "cell_type": "code",
   "execution_count": 7,
   "metadata": {},
   "outputs": [
    {
     "name": "stdout",
     "output_type": "stream",
     "text": [
      "Plotting feature importances\n"
     ]
    },
    {
     "data": {
      "image/png": "[encoded data removed]",
      "text/plain": [
       "<Figure size 432x288 with 1 Axes>"
      ]
     },
     "metadata": {
      "needs_background": "light"
     },
     "output_type": "display_data"
    }
   ],
   "source": [
    "# Plot the feature importances of the forest\n",
    "print(\"Plotting feature importances\")\n",
    "fig, ax = plt.subplots()\n",
    "fig.canvas.draw()\n",
    "plt.title(\"Feature importances for all pets\")\n",
    "plt.bar(range(train.shape[1]), importances[index],\n",
    "       color=\"r\", yerr=std[index], align=\"center\")\n",
    "plt.xticks(range(train.shape[1]), index, rotation='vertical')\n",
    "plt.xlim([-1, train.shape[1]])\n",
    "ax.set_xticklabels(ordered_labels)\n",
    "plt.show()"
   ]
  },
  {
   "cell_type": "code",
   "execution_count": 8,
   "metadata": {},
   "outputs": [
    {
     "name": "stdout",
     "output_type": "stream",
     "text": [
      "0.4347517730496454\n"
     ]
    }
   ],
   "source": [
    "# Retrain the model on best settings\n",
    "best_forest = RandomForestClassifier(n_estimators=500, criterion='entropy')\n",
    "\n",
    "best_forest.fit(train, adoptionSpeed_train)\n",
    "forest_predicted = best_forest.predict(test)\n",
    "print(accuracy_score(adoptionSpeed_test, forest_predicted))"
   ]
  },
  {
   "cell_type": "code",
   "execution_count": 11,
   "metadata": {},
   "outputs": [
    {
     "name": "stdout",
     "output_type": "stream",
     "text": [
      "1.7882978723404255\n"
     ]
    }
   ],
   "source": [
    "# Instantiate model with 1000 decision trees\n",
    "rf = RandomForestRegressor(n_estimators = 1000, random_state = 42, criterion='mse')\n",
    "\n",
    "# Train the model on training data\n",
    "rf.fit(train, adoptionSpeed_train);\n",
    "forest_regr = rf.predict(test)\n",
    "print(mean_squared_error(adoptionSpeed_test, forest_predicted))"
   ]
  }
 ],
 "metadata": {
  "kernelspec": {
   "display_name": "Python 3",
   "language": "python",
   "name": "python3"
  },
  "language_info": {
   "codemirror_mode": {
    "name": "ipython",
    "version": 3
   },
   "file_extension": ".py",
   "mimetype": "text/x-python",
   "name": "python",
   "nbconvert_exporter": "python",
   "pygments_lexer": "ipython3",
   "version": "3.7.4"
  }
 },
 "nbformat": 4,
 "nbformat_minor": 2
}
